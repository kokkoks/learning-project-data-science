{
 "cells": [
  {
   "cell_type": "code",
   "execution_count": 1,
   "metadata": {},
   "outputs": [
    {
     "name": "stderr",
     "output_type": "stream",
     "text": [
      "Using TensorFlow backend.\n"
     ]
    }
   ],
   "source": [
    "import numpy as np\n",
    "import pandas as pd\n",
    "import matplotlib.pyplot as plt\n",
    "from sklearn.model_selection import train_test_split\n",
    "from keras.utils.np_utils import to_categorical\n",
    "\n",
    "import warnings\n",
    "warnings.filterwarnings('ignore')"
   ]
  },
  {
   "cell_type": "code",
   "execution_count": 2,
   "metadata": {},
   "outputs": [
    {
     "data": {
      "text/plain": [
       "(-0.5, 63.5, 63.5, -0.5)"
      ]
     },
     "execution_count": 2,
     "metadata": {},
     "output_type": "execute_result"
    },
    {
     "data": {
      "image/png": "[encoded data removed]",
      "text/plain": [
       "<Figure size 432x288 with 2 Axes>"
      ]
     },
     "metadata": {
      "needs_background": "light"
     },
     "output_type": "display_data"
    }
   ],
   "source": [
    "x_l = np.load('datasets/Sign-language-digits-dataset/X.npy')\n",
    "y_l = np.load('datasets/Sign-language-digits-dataset/Y.npy')\n",
    "img_size = 64\n",
    "plt.subplot(1, 2, 1)\n",
    "plt.imshow(x_l[1855].reshape(img_size, img_size))\n",
    "plt.axis('off')\n",
    "plt.subplot(1, 2, 2)\n",
    "plt.imshow(x_l[2061].reshape(img_size, img_size))\n",
    "plt.axis('off')"
   ]
  },
  {
   "cell_type": "code",
   "execution_count": 3,
   "metadata": {},
   "outputs": [
    {
     "name": "stdout",
     "output_type": "stream",
     "text": [
      "X shape:  (2030, 64, 64)\n",
      "Y shape:  (2030, 10)\n"
     ]
    }
   ],
   "source": [
    "X = np.concatenate([x_l[204: 407], # 0 sign\n",
    "                    x_l[822: 1025], # 1 sign\n",
    "                    x_l[1649: 1852], # 2 sign\n",
    "                    x_l[1443: 1646], # 3 sign\n",
    "                    x_l[1236: 1439], # 4 sign\n",
    "                    x_l[1855: 2058], # 5 sign\n",
    "                    x_l[615: 818], # 6 sign\n",
    "                    x_l[409: 612], # 7 sign\n",
    "                    x_l[1028: 1231], # 8 sign\n",
    "                    x_l[0: 203], # 9 sign\n",
    "                    ], axis = 0)\n",
    "\n",
    "z = np.zeros(203)\n",
    "o = np.ones(203)\n",
    "two = np.empty(203); two.fill(2)\n",
    "three = np.empty(203); three.fill(3)\n",
    "four = np.empty(203); four.fill(4)\n",
    "five = np.empty(203); five.fill(5)\n",
    "six = np.empty(203); six.fill(6)\n",
    "seven = np.empty(203); seven.fill(7)\n",
    "eight = np.empty(203); eight.fill(8)\n",
    "nine = np.empty(203); nine.fill(9)\n",
    "Y = np.concatenate([z, o, two, three, four, five, six, seven, eight, nine], axis = 0)\n",
    "Y = Y.reshape(X.shape[0], 1)\n",
    "\n",
    "Y = to_categorical(Y, num_classes = 10)\n",
    "\n",
    "print('X shape: ', X.shape)\n",
    "print('Y shape: ', Y.shape)"
   ]
  },
  {
   "cell_type": "markdown",
   "metadata": {},
   "source": [
    "0 = 204-408 = 205 <br>\n",
    "1 = 822-1026 = 205 <br>\n",
    "2 = 1649-1854 = 206 <br>\n",
    "3 = 1443-1648 = 205 <br>\n",
    "4 = 1236-1442 = 206 <br>\n",
    "5 = 1855-2061 = 206 <br>\n",
    "6 = 615-821 = 206 <br>\n",
    "7 = 409-614 = 205 <br>\n",
    "8 = 1028-1235 = 207 <br>\n",
    "9 = 0-203 = 203 <br>\n",
    "\n",
    "0 = 204-406 = 203 <br>\n",
    "1 = 822-1024 = 203 <br>\n",
    "2 = 1649-1851 = 203 <br>\n",
    "3 = 1443-1646 = 203 <br>\n",
    "4 = 1236-1439 = 203 <br>\n",
    "5 = 1855-2058 = 203 <br>\n",
    "6 = 615-818 = 203 <br>\n",
    "7 = 409-612 = 203 <br>\n",
    "8 = 1028-1231 = 203 <br>\n",
    "9 = 0-203 = 203"
   ]
  },
  {
   "cell_type": "code",
   "execution_count": 4,
   "metadata": {},
   "outputs": [],
   "source": [
    "X_train, X_test, Y_train, Y_test = train_test_split(X, Y, test_size=0.15, random_state = 42)"
   ]
  },
  {
   "cell_type": "code",
   "execution_count": 5,
   "metadata": {},
   "outputs": [],
   "source": [
    "x_train = X_train.reshape(X_train.shape[0], X_train.shape[1]*X_train.shape[2])\n",
    "x_test = X_test.reshape(X_test.shape[0], X_test.shape[1]*X_test.shape[2])"
   ]
  },
  {
   "cell_type": "code",
   "execution_count": 6,
   "metadata": {},
   "outputs": [
    {
     "name": "stdout",
     "output_type": "stream",
     "text": [
      "(1725, 4096)\n",
      "(305, 4096)\n"
     ]
    }
   ],
   "source": [
    "print(x_train.shape)\n",
    "print(x_test.shape)"
   ]
  },
  {
   "cell_type": "code",
   "execution_count": 7,
   "metadata": {},
   "outputs": [],
   "source": [
    "from sklearn import linear_model\n",
    "logreg = linear_model.LogisticRegression(random_state = 42,max_iter= 150)"
   ]
  },
  {
   "cell_type": "code",
   "execution_count": 8,
   "metadata": {},
   "outputs": [],
   "source": [
    "# print(\"test accuracy: {} \".format(logreg.fit(x_train, Y_train).score(x_test, Y_test)))\n",
    "# print(\"train accuracy: {} \".format(logreg.fit(x_train, Y_train).score(x_train, Y_train)))"
   ]
  },
  {
   "cell_type": "code",
   "execution_count": 9,
   "metadata": {},
   "outputs": [],
   "source": [
    "from keras.wrappers.scikit_learn import KerasClassifier\n",
    "from sklearn.model_selection import cross_val_score\n",
    "from keras.models import Sequential\n",
    "from keras.layers import Dense, Dropout, Flatten, Conv2D, MaxPool2D"
   ]
  },
  {
   "cell_type": "code",
   "execution_count": 14,
   "metadata": {},
   "outputs": [
    {
     "name": "stdout",
     "output_type": "stream",
     "text": [
      "WARNING:tensorflow:From /Users/kokkok/anaconda3/lib/python3.7/site-packages/tensorflow/python/ops/math_ops.py:3066: to_int32 (from tensorflow.python.ops.math_ops) is deprecated and will be removed in a future version.\n",
      "Instructions for updating:\n",
      "Use tf.cast instead.\n",
      "Train on 1725 samples, validate on 305 samples\n",
      "Epoch 1/100\n",
      "1725/1725 [==============================] - 1s 378us/step - loss: 0.1155 - acc: 0.0968 - val_loss: 0.0968 - val_acc: 0.1246\n",
      "Epoch 2/100\n",
      "1725/1725 [==============================] - 0s 105us/step - loss: 0.0959 - acc: 0.1333 - val_loss: 0.0967 - val_acc: 0.1902\n",
      "Epoch 3/100\n",
      "1725/1725 [==============================] - 0s 102us/step - loss: 0.0938 - acc: 0.2046 - val_loss: 0.0944 - val_acc: 0.1738\n",
      "Epoch 4/100\n",
      "1725/1725 [==============================] - 0s 105us/step - loss: 0.0913 - acc: 0.2278 - val_loss: 0.0904 - val_acc: 0.2492\n",
      "Epoch 5/100\n",
      "1725/1725 [==============================] - 0s 104us/step - loss: 0.0888 - acc: 0.2499 - val_loss: 0.0895 - val_acc: 0.2131\n",
      "Epoch 6/100\n",
      "1725/1725 [==============================] - 0s 127us/step - loss: 0.0874 - acc: 0.2597 - val_loss: 0.0889 - val_acc: 0.2590\n",
      "Epoch 7/100\n",
      "1725/1725 [==============================] - 0s 148us/step - loss: 0.0855 - acc: 0.2852 - val_loss: 0.0874 - val_acc: 0.2721\n",
      "Epoch 8/100\n",
      "1725/1725 [==============================] - 0s 141us/step - loss: 0.0820 - acc: 0.3281 - val_loss: 0.0819 - val_acc: 0.3246\n",
      "Epoch 9/100\n",
      "1725/1725 [==============================] - 0s 157us/step - loss: 0.0789 - acc: 0.3490 - val_loss: 0.0788 - val_acc: 0.3705\n",
      "Epoch 10/100\n",
      "1725/1725 [==============================] - 0s 135us/step - loss: 0.0738 - acc: 0.4278 - val_loss: 0.0758 - val_acc: 0.3803\n",
      "Epoch 11/100\n",
      "1725/1725 [==============================] - 0s 113us/step - loss: 0.0697 - acc: 0.4655 - val_loss: 0.0725 - val_acc: 0.4393\n",
      "Epoch 12/100\n",
      "1725/1725 [==============================] - 0s 114us/step - loss: 0.0699 - acc: 0.4649 - val_loss: 0.0761 - val_acc: 0.3639\n",
      "Epoch 13/100\n",
      "1725/1725 [==============================] - 0s 108us/step - loss: 0.0673 - acc: 0.4986 - val_loss: 0.0676 - val_acc: 0.5344\n",
      "Epoch 14/100\n",
      "1725/1725 [==============================] - 0s 104us/step - loss: 0.0640 - acc: 0.5159 - val_loss: 0.0692 - val_acc: 0.4656\n",
      "Epoch 15/100\n",
      "1725/1725 [==============================] - 0s 104us/step - loss: 0.0610 - acc: 0.5565 - val_loss: 0.0695 - val_acc: 0.4459\n",
      "Epoch 16/100\n",
      "1725/1725 [==============================] - 0s 164us/step - loss: 0.0595 - acc: 0.5548 - val_loss: 0.0667 - val_acc: 0.4852\n",
      "Epoch 17/100\n",
      "1725/1725 [==============================] - 0s 106us/step - loss: 0.0570 - acc: 0.5942 - val_loss: 0.0614 - val_acc: 0.5443\n",
      "Epoch 18/100\n",
      "1725/1725 [==============================] - 0s 125us/step - loss: 0.0560 - acc: 0.6052 - val_loss: 0.0668 - val_acc: 0.4459\n",
      "Epoch 19/100\n",
      "1725/1725 [==============================] - 0s 97us/step - loss: 0.0547 - acc: 0.6197 - val_loss: 0.0568 - val_acc: 0.6000\n",
      "Epoch 20/100\n",
      "1725/1725 [==============================] - 0s 102us/step - loss: 0.0553 - acc: 0.6041 - val_loss: 0.0627 - val_acc: 0.5508\n",
      "Epoch 21/100\n",
      "1725/1725 [==============================] - 0s 102us/step - loss: 0.0520 - acc: 0.6400 - val_loss: 0.0541 - val_acc: 0.6033\n",
      "Epoch 22/100\n",
      "1725/1725 [==============================] - 0s 102us/step - loss: 0.0514 - acc: 0.6458 - val_loss: 0.0543 - val_acc: 0.6328\n",
      "Epoch 23/100\n",
      "1725/1725 [==============================] - 0s 104us/step - loss: 0.0481 - acc: 0.6835 - val_loss: 0.0529 - val_acc: 0.6689\n",
      "Epoch 24/100\n",
      "1725/1725 [==============================] - 0s 97us/step - loss: 0.0483 - acc: 0.6933 - val_loss: 0.0531 - val_acc: 0.6590\n",
      "Epoch 25/100\n",
      "1725/1725 [==============================] - 0s 152us/step - loss: 0.0500 - acc: 0.6655 - val_loss: 0.0560 - val_acc: 0.6230\n",
      "Epoch 26/100\n",
      "1725/1725 [==============================] - 0s 162us/step - loss: 0.0459 - acc: 0.7148 - val_loss: 0.0519 - val_acc: 0.6721\n",
      "Epoch 27/100\n",
      "1725/1725 [==============================] - 0s 150us/step - loss: 0.0439 - acc: 0.7246 - val_loss: 0.0451 - val_acc: 0.7246\n",
      "Epoch 28/100\n",
      "1725/1725 [==============================] - 0s 146us/step - loss: 0.0439 - acc: 0.7258 - val_loss: 0.0532 - val_acc: 0.6656\n",
      "Epoch 29/100\n",
      "1725/1725 [==============================] - 0s 177us/step - loss: 0.0436 - acc: 0.7229 - val_loss: 0.0438 - val_acc: 0.7180\n",
      "Epoch 30/100\n",
      "1725/1725 [==============================] - 0s 125us/step - loss: 0.0425 - acc: 0.7438 - val_loss: 0.0427 - val_acc: 0.7574\n",
      "Epoch 31/100\n",
      "1725/1725 [==============================] - 0s 94us/step - loss: 0.0424 - acc: 0.7345 - val_loss: 0.0507 - val_acc: 0.6393\n",
      "Epoch 32/100\n",
      "1725/1725 [==============================] - 0s 94us/step - loss: 0.0414 - acc: 0.7513 - val_loss: 0.0462 - val_acc: 0.7016\n",
      "Epoch 33/100\n",
      "1725/1725 [==============================] - 0s 94us/step - loss: 0.0404 - acc: 0.7467 - val_loss: 0.0437 - val_acc: 0.7344\n",
      "Epoch 34/100\n",
      "1725/1725 [==============================] - 0s 95us/step - loss: 0.0379 - acc: 0.7710 - val_loss: 0.0438 - val_acc: 0.7475\n",
      "Epoch 35/100\n",
      "1725/1725 [==============================] - 0s 97us/step - loss: 0.0380 - acc: 0.7803 - val_loss: 0.0388 - val_acc: 0.7639\n",
      "Epoch 36/100\n",
      "1725/1725 [==============================] - 0s 95us/step - loss: 0.0358 - acc: 0.7901 - val_loss: 0.0461 - val_acc: 0.7148\n",
      "Epoch 37/100\n",
      "1725/1725 [==============================] - 0s 93us/step - loss: 0.0372 - acc: 0.7675 - val_loss: 0.0404 - val_acc: 0.7475\n",
      "Epoch 38/100\n",
      "1725/1725 [==============================] - 0s 92us/step - loss: 0.0346 - acc: 0.7942 - val_loss: 0.0396 - val_acc: 0.7672\n",
      "Epoch 39/100\n",
      "1725/1725 [==============================] - 0s 99us/step - loss: 0.0355 - acc: 0.7988 - val_loss: 0.0416 - val_acc: 0.7738\n",
      "Epoch 40/100\n",
      "1725/1725 [==============================] - 0s 155us/step - loss: 0.0359 - acc: 0.7838 - val_loss: 0.0411 - val_acc: 0.7574\n",
      "Epoch 41/100\n",
      "1725/1725 [==============================] - 0s 104us/step - loss: 0.0338 - acc: 0.7965 - val_loss: 0.0361 - val_acc: 0.7967\n",
      "Epoch 42/100\n",
      "1725/1725 [==============================] - 0s 122us/step - loss: 0.0351 - acc: 0.8017 - val_loss: 0.0388 - val_acc: 0.7738\n",
      "Epoch 43/100\n",
      "1725/1725 [==============================] - 0s 114us/step - loss: 0.0363 - acc: 0.7745 - val_loss: 0.0485 - val_acc: 0.6984\n",
      "Epoch 44/100\n",
      "1725/1725 [==============================] - 0s 117us/step - loss: 0.0333 - acc: 0.7994 - val_loss: 0.0379 - val_acc: 0.7541\n",
      "Epoch 45/100\n",
      "1725/1725 [==============================] - 0s 126us/step - loss: 0.0321 - acc: 0.8145 - val_loss: 0.0356 - val_acc: 0.7803\n",
      "Epoch 46/100\n",
      "1725/1725 [==============================] - 0s 141us/step - loss: 0.0308 - acc: 0.8133 - val_loss: 0.0401 - val_acc: 0.7443\n",
      "Epoch 47/100\n",
      "1725/1725 [==============================] - 0s 116us/step - loss: 0.0326 - acc: 0.8017 - val_loss: 0.0362 - val_acc: 0.7836\n",
      "Epoch 48/100\n",
      "1725/1725 [==============================] - 0s 101us/step - loss: 0.0299 - acc: 0.8325 - val_loss: 0.0381 - val_acc: 0.7410\n",
      "Epoch 49/100\n",
      "1725/1725 [==============================] - 0s 99us/step - loss: 0.0315 - acc: 0.8070 - val_loss: 0.0380 - val_acc: 0.7738\n",
      "Epoch 50/100\n",
      "1725/1725 [==============================] - 0s 97us/step - loss: 0.0294 - acc: 0.8232 - val_loss: 0.0355 - val_acc: 0.7803\n",
      "Epoch 51/100\n",
      "1725/1725 [==============================] - 0s 95us/step - loss: 0.0308 - acc: 0.8174 - val_loss: 0.0373 - val_acc: 0.7639\n",
      "Epoch 52/100\n",
      "1725/1725 [==============================] - 0s 93us/step - loss: 0.0305 - acc: 0.8075 - val_loss: 0.0341 - val_acc: 0.7967\n",
      "Epoch 53/100\n",
      "1725/1725 [==============================] - 0s 94us/step - loss: 0.0282 - acc: 0.8319 - val_loss: 0.0359 - val_acc: 0.7836\n",
      "Epoch 54/100\n",
      "1725/1725 [==============================] - 0s 96us/step - loss: 0.0289 - acc: 0.8203 - val_loss: 0.0419 - val_acc: 0.7148\n",
      "Epoch 55/100\n",
      "1725/1725 [==============================] - 0s 93us/step - loss: 0.0297 - acc: 0.8226 - val_loss: 0.0490 - val_acc: 0.6525\n",
      "Epoch 56/100\n",
      "1725/1725 [==============================] - 0s 93us/step - loss: 0.0295 - acc: 0.8133 - val_loss: 0.0393 - val_acc: 0.7410\n",
      "Epoch 57/100\n",
      "1725/1725 [==============================] - 0s 95us/step - loss: 0.0262 - acc: 0.8475 - val_loss: 0.0324 - val_acc: 0.8033\n",
      "Epoch 58/100\n"
     ]
    },
    {
     "name": "stdout",
     "output_type": "stream",
     "text": [
      "1725/1725 [==============================] - 0s 94us/step - loss: 0.0252 - acc: 0.8533 - val_loss: 0.0353 - val_acc: 0.7967\n",
      "Epoch 59/100\n",
      "1725/1725 [==============================] - 0s 92us/step - loss: 0.0274 - acc: 0.8400 - val_loss: 0.0354 - val_acc: 0.7672\n",
      "Epoch 60/100\n",
      "1725/1725 [==============================] - 0s 95us/step - loss: 0.0279 - acc: 0.8388 - val_loss: 0.0407 - val_acc: 0.7377\n",
      "Epoch 61/100\n",
      "1725/1725 [==============================] - 0s 94us/step - loss: 0.0370 - acc: 0.7548 - val_loss: 0.0354 - val_acc: 0.7738\n",
      "Epoch 62/100\n",
      "1725/1725 [==============================] - 0s 92us/step - loss: 0.0270 - acc: 0.8493 - val_loss: 0.0318 - val_acc: 0.8000\n",
      "Epoch 63/100\n",
      "1725/1725 [==============================] - 0s 94us/step - loss: 0.0266 - acc: 0.8365 - val_loss: 0.0320 - val_acc: 0.7902\n",
      "Epoch 64/100\n",
      "1725/1725 [==============================] - 0s 95us/step - loss: 0.0265 - acc: 0.8406 - val_loss: 0.0376 - val_acc: 0.7672\n",
      "Epoch 65/100\n",
      "1725/1725 [==============================] - 0s 94us/step - loss: 0.0248 - acc: 0.8539 - val_loss: 0.0355 - val_acc: 0.7836\n",
      "Epoch 66/100\n",
      "1725/1725 [==============================] - 0s 93us/step - loss: 0.0259 - acc: 0.8394 - val_loss: 0.0409 - val_acc: 0.7311\n",
      "Epoch 67/100\n",
      "1725/1725 [==============================] - 0s 96us/step - loss: 0.0243 - acc: 0.8551 - val_loss: 0.0323 - val_acc: 0.8098\n",
      "Epoch 68/100\n",
      "1725/1725 [==============================] - 0s 93us/step - loss: 0.0240 - acc: 0.8568 - val_loss: 0.0328 - val_acc: 0.7836\n",
      "Epoch 69/100\n",
      "1725/1725 [==============================] - 0s 94us/step - loss: 0.0233 - acc: 0.8730 - val_loss: 0.0326 - val_acc: 0.7836\n",
      "Epoch 70/100\n",
      "1725/1725 [==============================] - 0s 97us/step - loss: 0.0230 - acc: 0.8684 - val_loss: 0.0386 - val_acc: 0.7508\n",
      "Epoch 71/100\n",
      "1725/1725 [==============================] - 0s 93us/step - loss: 0.0244 - acc: 0.8470 - val_loss: 0.0326 - val_acc: 0.7934\n",
      "Epoch 72/100\n",
      "1725/1725 [==============================] - 0s 94us/step - loss: 0.0230 - acc: 0.8614 - val_loss: 0.0344 - val_acc: 0.7869\n",
      "Epoch 73/100\n",
      "1725/1725 [==============================] - 0s 94us/step - loss: 0.0226 - acc: 0.8655 - val_loss: 0.0336 - val_acc: 0.7803\n",
      "Epoch 74/100\n",
      "1725/1725 [==============================] - 0s 93us/step - loss: 0.0217 - acc: 0.8713 - val_loss: 0.0323 - val_acc: 0.7934\n",
      "Epoch 75/100\n",
      "1725/1725 [==============================] - 0s 93us/step - loss: 0.0244 - acc: 0.8528 - val_loss: 0.0354 - val_acc: 0.7934\n",
      "Epoch 76/100\n",
      "1725/1725 [==============================] - 0s 93us/step - loss: 0.0248 - acc: 0.8516 - val_loss: 0.0323 - val_acc: 0.8000\n",
      "Epoch 77/100\n",
      "1725/1725 [==============================] - 0s 98us/step - loss: 0.0203 - acc: 0.8841 - val_loss: 0.0328 - val_acc: 0.7902\n",
      "Epoch 78/100\n",
      "1725/1725 [==============================] - 0s 93us/step - loss: 0.0237 - acc: 0.8551 - val_loss: 0.0321 - val_acc: 0.7770\n",
      "Epoch 79/100\n",
      "1725/1725 [==============================] - 0s 95us/step - loss: 0.0220 - acc: 0.8667 - val_loss: 0.0304 - val_acc: 0.8033\n",
      "Epoch 80/100\n",
      "1725/1725 [==============================] - 0s 94us/step - loss: 0.0208 - acc: 0.8759 - val_loss: 0.0305 - val_acc: 0.8000\n",
      "Epoch 81/100\n",
      "1725/1725 [==============================] - 0s 95us/step - loss: 0.0219 - acc: 0.8696 - val_loss: 0.0287 - val_acc: 0.8098\n",
      "Epoch 82/100\n",
      "1725/1725 [==============================] - 0s 94us/step - loss: 0.0271 - acc: 0.8319 - val_loss: 0.0334 - val_acc: 0.7869\n",
      "Epoch 83/100\n",
      "1725/1725 [==============================] - 0s 94us/step - loss: 0.0211 - acc: 0.8759 - val_loss: 0.0334 - val_acc: 0.8033\n",
      "Epoch 84/100\n",
      "1725/1725 [==============================] - 0s 95us/step - loss: 0.0219 - acc: 0.8655 - val_loss: 0.0351 - val_acc: 0.7934\n",
      "Epoch 85/100\n",
      "1725/1725 [==============================] - 0s 101us/step - loss: 0.0221 - acc: 0.8684 - val_loss: 0.0344 - val_acc: 0.7869\n",
      "Epoch 86/100\n",
      "1725/1725 [==============================] - 0s 94us/step - loss: 0.0221 - acc: 0.8649 - val_loss: 0.0317 - val_acc: 0.7803\n",
      "Epoch 87/100\n",
      "1725/1725 [==============================] - 0s 94us/step - loss: 0.0212 - acc: 0.8707 - val_loss: 0.0327 - val_acc: 0.7902\n",
      "Epoch 88/100\n",
      "1725/1725 [==============================] - 0s 93us/step - loss: 0.0251 - acc: 0.8499 - val_loss: 0.0366 - val_acc: 0.7738\n",
      "Epoch 89/100\n",
      "1725/1725 [==============================] - 0s 95us/step - loss: 0.0215 - acc: 0.8719 - val_loss: 0.0302 - val_acc: 0.8098\n",
      "Epoch 90/100\n",
      "1725/1725 [==============================] - 0s 93us/step - loss: 0.0207 - acc: 0.8707 - val_loss: 0.0326 - val_acc: 0.7869\n",
      "Epoch 91/100\n",
      "1725/1725 [==============================] - 0s 95us/step - loss: 0.0179 - acc: 0.8991 - val_loss: 0.0316 - val_acc: 0.7836\n",
      "Epoch 92/100\n",
      "1725/1725 [==============================] - 0s 95us/step - loss: 0.0188 - acc: 0.8841 - val_loss: 0.0343 - val_acc: 0.7738\n",
      "Epoch 93/100\n",
      "1725/1725 [==============================] - 0s 93us/step - loss: 0.0198 - acc: 0.8823 - val_loss: 0.0329 - val_acc: 0.7869\n",
      "Epoch 94/100\n",
      "1725/1725 [==============================] - 0s 99us/step - loss: 0.0191 - acc: 0.8870 - val_loss: 0.0296 - val_acc: 0.8131\n",
      "Epoch 95/100\n",
      "1725/1725 [==============================] - 0s 94us/step - loss: 0.0202 - acc: 0.8823 - val_loss: 0.0297 - val_acc: 0.8066\n",
      "Epoch 96/100\n",
      "1725/1725 [==============================] - 0s 94us/step - loss: 0.0223 - acc: 0.8545 - val_loss: 0.0476 - val_acc: 0.6623\n",
      "Epoch 97/100\n",
      "1725/1725 [==============================] - 0s 94us/step - loss: 0.0202 - acc: 0.8736 - val_loss: 0.0324 - val_acc: 0.8066\n",
      "Epoch 98/100\n",
      "1725/1725 [==============================] - 0s 93us/step - loss: 0.0196 - acc: 0.8823 - val_loss: 0.0302 - val_acc: 0.8066\n",
      "Epoch 99/100\n",
      "1725/1725 [==============================] - 0s 94us/step - loss: 0.0193 - acc: 0.8829 - val_loss: 0.0305 - val_acc: 0.8164\n",
      "Epoch 100/100\n",
      "1725/1725 [==============================] - 0s 96us/step - loss: 0.0184 - acc: 0.8933 - val_loss: 0.0284 - val_acc: 0.8197\n"
     ]
    },
    {
     "data": {
      "text/plain": [
       "<keras.callbacks.History at 0x1a384f6fd0>"
      ]
     },
     "execution_count": 14,
     "metadata": {},
     "output_type": "execute_result"
    }
   ],
   "source": [
    "model = Sequential()\n",
    "model.add(Dense(units = 64, activation = 'relu', input_dim = (x_train.shape[1])))\n",
    "model.add(Dense(units = 32, activation = 'relu'))\n",
    "model.add(Dense(units = 10, activation = 'sigmoid'))\n",
    "model.compile(optimizer = 'adam', loss = 'mean_squared_error', metrics = ['accuracy'])\n",
    "model.fit(x_train, Y_train, validation_data=(x_test, Y_test), epochs = 100, batch_size =  32)\n",
    "# accuracies = cross_val_score(estimator = model, X = x_train, y = Y_train, cv = 3)\n",
    "# print(accuracies.mean())"
   ]
  },
  {
   "cell_type": "code",
   "execution_count": null,
   "metadata": {},
   "outputs": [],
   "source": []
  }
 ],
 "metadata": {
  "kernelspec": {
   "display_name": "Python 3",
   "language": "python",
   "name": "python3"
  },
  "language_info": {
   "codemirror_mode": {
    "name": "ipython",
    "version": 3
   },
   "file_extension": ".py",
   "mimetype": "text/x-python",
   "name": "python",
   "nbconvert_exporter": "python",
   "pygments_lexer": "ipython3",
   "version": "3.7.0"
  }
 },
 "nbformat": 4,
 "nbformat_minor": 2
}
